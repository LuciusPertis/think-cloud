{
 "cells": [
  {
   "cell_type": "code",
   "execution_count": 27,
   "id": "ab1f737d",
   "metadata": {},
   "outputs": [],
   "source": [
    "from pyvis.network import Network\n",
    "from random import randint as rnd\n",
    "\n",
    "class Node:\n",
    "    def __init__(self, name=\"n0\", desc=\"\", tags=[], id=0):\n",
    "        self.name = name\n",
    "        self.desc = desc\n",
    "        self.tags = tags\n",
    "        if id:  self.node_id = id\n",
    "        else:   self.node_id =  str(hex(rnd(16**4, 16**6)))[2:]\n",
    "\n",
    "class Edge:\n",
    "    def __init__(self, source_id, target_id, desc=\"\", id=0):\n",
    "        self.source_id = source_id\n",
    "        self.target_id = target_id\n",
    "        self.desc = desc\n",
    "        if id:  self.node_id = id\n",
    "        else:   self.node_id =  str(hex(rnd(16**4, 16**6)))[2:]"
   ]
  },
  {
   "attachments": {},
   "cell_type": "markdown",
   "id": "e0582123",
   "metadata": {},
   "source": [
    "graph class"
   ]
  },
  {
   "cell_type": "code",
   "execution_count": 28,
   "id": "d6917541",
   "metadata": {},
   "outputs": [],
   "source": [
    "class Graph:\n",
    "    def __init__(self, name=None):\n",
    "        self.nodes = {}\n",
    "        self.edges = {}\n",
    "        self.adj_matrix = {}\n",
    "        \n",
    "        self.tags = {}\n",
    "        \n",
    "        if name :   self.name = name\n",
    "        else:       self.name = \"my_graph_\"+str(hex(rnd(16**5, 16**6)))[2:]\n",
    "\n",
    "        self.html_name = self.name+'.html'\n",
    "\n",
    "        \n",
    "    def list_tags(self):\n",
    "        return list(self.tags.keys())\n",
    "    \n",
    "    def add_node(self, name, desc=\"\", tags=[]):\n",
    "        node = Node(name, desc, tags)\n",
    "        self.nodes[node.node_id] = node\n",
    "        self.adj_matrix[node.node_id] = {}\n",
    "        \n",
    "        for t in tags:\n",
    "            if t in self.tags.keys():\n",
    "                self.tags[t]+=1\n",
    "            else:\n",
    "                self.tags[t]=1\n",
    "        \n",
    "        return node.node_id\n",
    "    \n",
    "    def delete_node(self, node_id):\n",
    "        if node_id in self.nodes:\n",
    "            \n",
    "            for t in self.nodes[node_id].tags:\n",
    "                self.tags[t]-=1\n",
    "            \n",
    "            del self.nodes[node_id]\n",
    "            del self.adj_matrix[node_id]\n",
    "            for neighbor_id in self.adj_matrix:\n",
    "                if node_id in self.adj_matrix[neighbor_id]:\n",
    "                    edge_id = self.adj_matrix[neighbor_id][node_id]\n",
    "                    del self.adj_matrix[neighbor_id][node_id]\n",
    "                    del self.edges[edge_id]\n",
    "            \n",
    "    \n",
    "    def add_edges(self, edge_list):\n",
    "        for edge in edge_list:\n",
    "            source_id, target_id = edge\n",
    "            if source_id in self.nodes and target_id in self.nodes:\n",
    "                edge = Edge(source_id, target_id)\n",
    "                self.edges[edge.edge_id] = edge\n",
    "                self.adj_matrix[source_id][target_id] = edge.edge_id\n",
    "                self.adj_matrix[target_id][source_id] = edge.edge_id\n",
    "    \n",
    "    def delete_edges(self, edge_list):\n",
    "        for edge in edge_list:\n",
    "            source_id, target_id = edge\n",
    "            if source_id in self.nodes and target_id in self.nodes and target_id in self.adj_matrix[source_id]:\n",
    "                edge_id = self.adj_matrix[source_id][target_id]\n",
    "                del self.edges[edge_id]\n",
    "                del self.adj_matrix[source_id][target_id]\n",
    "                del self.adj_matrix[target_id][source_id]\n",
    "    \n",
    "    def describe_node(self, node_id):\n",
    "        if node_id in self.nodes:\n",
    "            node = self.nodes[node_id]\n",
    "            print(f\"Name: {node.name} | Id: {node.node_id}\")\n",
    "            print(f\"Description: {node.desc}\")\n",
    "            print(f\"Tags: {', '.join(node.tags)}\")\n",
    "            neighbors = [edge.target_id for edge in self.edges.values() if edge.source_id == node_id] + \\\n",
    "                        [edge.source_id for edge in self.edges.values() if edge.target_id == node_id]\n",
    "            print(f\"Neighbors: {', '.join(str(neighbor) for neighbor in neighbors)}\")\n",
    "        else:\n",
    "            print(\"Node not found.\")\n",
    "    \n",
    "    def draw_graph(self):\n",
    "        net = Network(height=\"750px\", width=\"100%\", bgcolor=\"#222222\", font_color=\"white\")\n",
    "        for node_id, node in self.nodes.items():\n",
    "            net.add_node(node_id, label=node.name, title=str(node_id)+' | '+node.desc, group=node.tags[0])\n",
    "        for edge in self.edges.values():\n",
    "            net.add_edge(edge.source_id, edge.target_id, title=edge.desc)\n",
    "        net.show(\"graph.html\", notebook=False)\n",
    "    \n",
    "    def updateHTML(self):\n",
    "        net = Network()\n",
    "        for node_id, node in self.nodes.items():\n",
    "            net.add_node(node_id, label=node.name, title=str(node_id)+' | '+node.desc, group=node.tags[0])\n",
    "        for edge in self.edges.values():\n",
    "            net.add_edge(edge.source_id, edge.target_id, title=edge.desc)\n",
    "        \n",
    "        net.write_html(self.html_name, open_browser=False, notebook=False)\n",
    "        \n",
    "        #return\n",
    "        with open(self.html_name, 'r') as f:\n",
    "            html_content = f.read()\n",
    "\n",
    "        # find the position of the closing head tag\n",
    "        body_start_pos = html_content.find('<body>') + len('<body>')\n",
    "\n",
    "        # create the meta tag string\n",
    "        refresh_script = \"<script>function autoRefresh(){window.location=window.location.href;}setInterval('autoRefresh()',5000);</script>\"\n",
    "        '''\n",
    "        <script>\n",
    "            function autoRefresh() {\n",
    "                window.location = window.location.href;\n",
    "            }\n",
    "            setInterval('autoRefresh()', 5000);\n",
    "        </script>\n",
    "        '''\n",
    "\n",
    "        # insert the meta tag into the head section of the HTML\n",
    "        updated_html_content = html_content[:body_start_pos] + refresh_script + html_content[body_start_pos:]\n",
    "\n",
    "        # write the updated HTML to a file\n",
    "        with open(self.html_name, 'w') as f:\n",
    "            f.write(updated_html_content)\n",
    "\n"
   ]
  },
  {
   "cell_type": "code",
   "execution_count": 29,
   "id": "1fab423d",
   "metadata": {},
   "outputs": [],
   "source": [
    "import pickle\n",
    "\n",
    "def save_graph(graph, filename):\n",
    "    with open(filename, 'wb') as file:\n",
    "        pickle.dump(graph, file)\n",
    "\n",
    "def load_graph(filename):\n",
    "    with open(filename, 'rb') as file:\n",
    "        graph = pickle.load(file)\n",
    "        return graph"
   ]
  },
  {
   "cell_type": "code",
   "execution_count": 30,
   "id": "15594e19",
   "metadata": {},
   "outputs": [],
   "source": [
    "g = Graph()"
   ]
  },
  {
   "cell_type": "code",
   "execution_count": 31,
   "id": "497ac66e",
   "metadata": {},
   "outputs": [],
   "source": [
    "# save the graph object to file\n",
    "filename = 'filesave_'+g.name+'.pkl'\n",
    "save_graph(g, filename)\n",
    "\n",
    "# load the graph object from file\n",
    "g = load_graph(filename)"
   ]
  },
  {
   "cell_type": "code",
   "execution_count": 32,
   "id": "641b6d18",
   "metadata": {},
   "outputs": [],
   "source": [
    "g.updateHTML()"
   ]
  },
  {
   "cell_type": "code",
   "execution_count": 36,
   "id": "02f182b8",
   "metadata": {},
   "outputs": [
    {
     "name": "stdout",
     "output_type": "stream",
     "text": [
      "Node not found.\n"
     ]
    }
   ],
   "source": [
    "g.describe_node(1231)"
   ]
  },
  {
   "cell_type": "code",
   "execution_count": 34,
   "id": "ad78bb23",
   "metadata": {},
   "outputs": [
    {
     "name": "stdout",
     "output_type": "stream",
     "text": [
      "Any tags to associate? (already available:)\n",
      "\n",
      "\n",
      " -- Node created --\n",
      "Name: presentation | Id: abe9c0\n",
      "Description: \n",
      "Tags: \n",
      "Neighbors: \n"
     ]
    }
   ],
   "source": [
    "def cli_addNode(g:Graph):\n",
    "    name = input('Enter node name: ')\n",
    "    desc = input('Enter Description: ')\n",
    "    print('Any tags to associate? (already available:)')\n",
    "    for i, t in enumerate(g.list_tags()):\n",
    "        print('\\t',i, t)\n",
    "    _tags = input('choose numbers or new tag name, space sep: ').split(' ')\n",
    "    tags = [ g.list_tags()[int(i)] for i in _tags if i.isnumeric() ]\n",
    "    tags = tags + [ t for t in _tags if not t.isnumeric() ]\n",
    "    \n",
    "    n_id = g.add_node(name, desc, tags)\n",
    "    g.updateHTML()\n",
    "    \n",
    "    print('\\n')\n",
    "    print(' -- Node created --' )\n",
    "    g.describe_node(n_id)\n",
    "\n",
    "cli_addNode(g)"
   ]
  },
  {
   "cell_type": "code",
   "execution_count": null,
   "id": "a3edfd44",
   "metadata": {},
   "outputs": [],
   "source": []
  },
  {
   "cell_type": "code",
   "execution_count": null,
   "id": "83d5302d",
   "metadata": {},
   "outputs": [],
   "source": [
    "def cli_addNode(g:Graph):\n",
    "    name = input('Enter node name: ')\n",
    "    desc = input('Enter Description: ')\n",
    "    print('Any tags to associate? (already available:)')\n",
    "    for i, t in enumerate(g.list_tags()):\n",
    "        print('\\t',i, t)\n",
    "    _tags = input('choose numbers or new tag name, space sep: ').split(' ')\n",
    "    tags = [ g.list_tags()[int(i)] for i in _tags if i.isnumeric() ]\n",
    "    tags = tags + [ t for t in _tags if not t.isnumeric() ]\n",
    "    \n",
    "    n_id = g.add_node(name, desc, tags)\n",
    "    g.updateHTML()\n",
    "    \n",
    "    print('\\n')\n",
    "    print(' -- Node created --' )\n",
    "    g.describe_node(n_id)\n",
    "\n",
    "cli_addNode(g)"
   ]
  },
  {
   "cell_type": "code",
   "execution_count": 35,
   "id": "02832172",
   "metadata": {},
   "outputs": [
    {
     "data": {
      "text/plain": [
       "{'abe9c0': <__main__.Node at 0x16081c76e00>}"
      ]
     },
     "execution_count": 35,
     "metadata": {},
     "output_type": "execute_result"
    }
   ],
   "source": [
    "g.nodes"
   ]
  },
  {
   "cell_type": "code",
   "execution_count": null,
   "id": "4b9901b9",
   "metadata": {},
   "outputs": [],
   "source": []
  }
 ],
 "metadata": {
  "kernelspec": {
   "display_name": "Python 3 (ipykernel)",
   "language": "python",
   "name": "python3"
  },
  "language_info": {
   "codemirror_mode": {
    "name": "ipython",
    "version": 3
   },
   "file_extension": ".py",
   "mimetype": "text/x-python",
   "name": "python",
   "nbconvert_exporter": "python",
   "pygments_lexer": "ipython3",
   "version": "3.10.8"
  }
 },
 "nbformat": 4,
 "nbformat_minor": 5
}
