{
 "cells": [
  {
   "cell_type": "code",
   "execution_count": 23,
   "id": "ab1f737d",
   "metadata": {},
   "outputs": [],
   "source": [
    "from pyvis.network import Network\n",
    "from random import randint as rnd\n",
    "import webbrowser\n",
    "\n",
    "class Node:\n",
    "    def __init__(self, name=\"n0\", desc=\"\", tags=[], id=0):\n",
    "        self.name = name\n",
    "        self.desc = desc\n",
    "        self.tags = tags\n",
    "        if id:  self.node_id = id\n",
    "        else:   self.node_id =  str(hex(rnd(16**2, 16**3)))[2:]\n",
    "\n",
    "class Edge:\n",
    "    def __init__(self, source_id, target_id, desc=\"\", id=0):\n",
    "        self.source_id = source_id\n",
    "        self.target_id = target_id\n",
    "        self.desc = desc\n",
    "        if id:  self.edge_id = id\n",
    "        else:   self.edge_id =  str(hex(rnd(16**4, 16**6)))[2:]"
   ]
  },
  {
   "cell_type": "markdown",
   "id": "e0582123",
   "metadata": {},
   "source": [
    "graph class"
   ]
  },
  {
   "cell_type": "code",
   "execution_count": 35,
   "id": "d6917541",
   "metadata": {},
   "outputs": [],
   "source": [
    "class Graph:\n",
    "    def __init__(self, name=None):\n",
    "        self.nodes = {}\n",
    "        self.edges = {}\n",
    "        self.adj_matrix = {}\n",
    "        \n",
    "        self.tags = {}\n",
    "        \n",
    "        if name :   self.name = name\n",
    "        else:       self.name = \"my_graph_\"+str(hex(rnd(16**5, 16**6)))[2:]\n",
    "\n",
    "        self.html_name = self.name+'.html'\n",
    "\n",
    "        \n",
    "    def list_tags(self):\n",
    "        return list(self.tags.keys())\n",
    "    \n",
    "    def add_node(self, name, desc=\"\", tags=[]):\n",
    "        node = Node(name, desc, tags)\n",
    "        self.nodes[node.node_id] = node\n",
    "        self.adj_matrix[node.node_id] = {}\n",
    "        \n",
    "        for t in tags:\n",
    "            if t in self.tags.keys():\n",
    "                self.tags[t]+=1\n",
    "            else:\n",
    "                self.tags[t]=1\n",
    "        \n",
    "        return node.node_id\n",
    "    \n",
    "    def delete_node(self, node_id):\n",
    "        if node_id in self.nodes:\n",
    "            \n",
    "            for t in self.nodes[node_id].tags:\n",
    "                self.tags[t]-=1\n",
    "            \n",
    "            del self.nodes[node_id]\n",
    "            del self.adj_matrix[node_id]\n",
    "            for neighbor_id in self.adj_matrix:\n",
    "                if node_id in self.adj_matrix[neighbor_id]:\n",
    "                    edge_id = self.adj_matrix[neighbor_id][node_id]\n",
    "                    del self.adj_matrix[neighbor_id][node_id]\n",
    "                    del self.edges[edge_id]\n",
    "            \n",
    "    \n",
    "    def add_edges(self, edge_list):\n",
    "        for edge in edge_list:\n",
    "            source_id, target_id = edge\n",
    "            if source_id in self.nodes and target_id in self.nodes:\n",
    "                edge = Edge(source_id, target_id)\n",
    "                self.edges[edge.edge_id] = edge\n",
    "                self.adj_matrix[source_id][target_id] = edge.edge_id\n",
    "                self.adj_matrix[target_id][source_id] = edge.edge_id\n",
    "    \n",
    "    def delete_edges(self, edge_list):\n",
    "        for edge in edge_list:\n",
    "            source_id, target_id = edge\n",
    "            if source_id in self.nodes and target_id in self.nodes and target_id in self.adj_matrix[source_id]:\n",
    "                edge_id = self.adj_matrix[source_id][target_id]\n",
    "                del self.edges[edge_id]\n",
    "                del self.adj_matrix[source_id][target_id]\n",
    "                del self.adj_matrix[target_id][source_id]\n",
    "    \n",
    "    def describe_node(self, node_id):\n",
    "        if node_id in self.nodes:\n",
    "            node = self.nodes[node_id]\n",
    "            print(f\"Name: {node.name} | Id: {node.node_id}\")\n",
    "            print(f\"Description: {node.desc}\")\n",
    "            print(f\"Tags: {', '.join(node.tags)}\")\n",
    "            neighbors = [edge.target_id for edge in self.edges.values() if edge.source_id == node_id] + \\\n",
    "                        [edge.source_id for edge in self.edges.values() if edge.target_id == node_id]\n",
    "            print(f\"Neighbors: {', '.join(str(neighbor) for neighbor in neighbors)}\")\n",
    "        else:\n",
    "            print(\"Node not found.\")\n",
    "    \n",
    "    def draw_graph(self):\n",
    "        self.updateHTML()\n",
    "        webbrowser.open(self.html_name)\n",
    "    \n",
    "    def updateHTML(self):\n",
    "        net = Network()\n",
    "        for node_id, node in self.nodes.items():\n",
    "            net.add_node(node_id, label=node.name, title=str(node_id)+' | '+node.desc, group=node.tags[0])\n",
    "        for edge in self.edges.values():\n",
    "            net.add_edge(edge.source_id, edge.target_id, title=edge.desc)\n",
    "        \n",
    "        net.write_html(self.html_name, open_browser=False, notebook=False)\n",
    "        \n",
    "        #return\n",
    "        with open(self.html_name, 'r') as f:\n",
    "            html_content = f.read()\n",
    "\n",
    "        # find the position of the closing head tag\n",
    "        body_start_pos = html_content.find('<body>') + len('<body>')\n",
    "\n",
    "        # create the meta tag string\n",
    "        refresh_script = \"<script>function autoRefresh(){window.location=window.location.href;}setInterval('autoRefresh()',5000);</script>\"\n",
    "        '''\n",
    "        <script>\n",
    "            function autoRefresh() {\n",
    "                window.location = window.location.href;\n",
    "            }\n",
    "            setInterval('autoRefresh()', 5000);\n",
    "        </script>\n",
    "        '''\n",
    "\n",
    "        # insert the meta tag into the head section of the HTML\n",
    "        updated_html_content = html_content[:body_start_pos] + refresh_script + html_content[body_start_pos:]\n",
    "\n",
    "        # write the updated HTML to a file\n",
    "        with open(self.html_name, 'w') as f:\n",
    "            f.write(updated_html_content)\n",
    "\n"
   ]
  },
  {
   "cell_type": "code",
   "execution_count": 36,
   "id": "1fab423d",
   "metadata": {},
   "outputs": [],
   "source": [
    "import pickle\n",
    "\n",
    "def save_graph(graph, filename):\n",
    "    with open(filename, 'wb') as file:\n",
    "        pickle.dump(graph, file)\n",
    "\n",
    "def load_graph(filename):\n",
    "    with open(filename, 'rb') as file:\n",
    "        graph = pickle.load(file)\n",
    "        return graph"
   ]
  },
  {
   "cell_type": "code",
   "execution_count": 37,
   "id": "15594e19",
   "metadata": {},
   "outputs": [],
   "source": [
    "g = Graph('my_graph')"
   ]
  },
  {
   "cell_type": "code",
   "execution_count": 5,
   "id": "a0aec82c",
   "metadata": {},
   "outputs": [],
   "source": [
    "g = load_graph('./filesave_my_graph_1e2e14.pkl')"
   ]
  },
  {
   "cell_type": "code",
   "execution_count": 91,
   "id": "497ac66e",
   "metadata": {},
   "outputs": [],
   "source": [
    "# save the graph object to file\n",
    "filename = 'filesave_'+g.name+'.pkl'\n",
    "save_graph(g, filename)\n",
    "\n",
    "# load the graph object from file\n",
    "g = load_graph(filename)"
   ]
  },
  {
   "cell_type": "code",
   "execution_count": 116,
   "id": "7cc5eb84",
   "metadata": {},
   "outputs": [],
   "source": [
    "# load the graph object from file\n",
    "filename = 'filesave_'+g.name+'.pkl'\n",
    "g = load_graph(filename)"
   ]
  },
  {
   "cell_type": "code",
   "execution_count": 81,
   "id": "641b6d18",
   "metadata": {},
   "outputs": [],
   "source": [
    "g.updateHTML()"
   ]
  },
  {
   "cell_type": "code",
   "execution_count": 39,
   "id": "a42a94e2",
   "metadata": {},
   "outputs": [],
   "source": [
    "g.draw_graph()"
   ]
  },
  {
   "cell_type": "code",
   "execution_count": 34,
   "id": "02f182b8",
   "metadata": {},
   "outputs": [
    {
     "name": "stdout",
     "output_type": "stream",
     "text": [
      "Node not found.\n"
     ]
    }
   ],
   "source": [
    "g.describe_node(1231)"
   ]
  },
  {
   "cell_type": "code",
   "execution_count": 41,
   "id": "ad78bb23",
   "metadata": {},
   "outputs": [
    {
     "name": "stdout",
     "output_type": "stream",
     "text": [
      "Enter node name: Anchor\n",
      "Enter Description: Describes a fixed location and orientation in the real world.\n",
      "Any tags to associate? (already available:)\n",
      "\t 0 \n",
      "choose numbers or new tag name, space sep: class\n",
      "\n",
      "\n",
      " -- Node created --\n",
      "Name: Anchor | Id: 80f\n",
      "Description: Describes a fixed location and orientation in the real world.\n",
      "Tags: class\n",
      "Neighbors: \n"
     ]
    }
   ],
   "source": [
    "def cli_addNode(g:Graph):\n",
    "    name = input('Enter node name: ')\n",
    "    desc = input('Enter Description: ')\n",
    "    print('Any tags to associate? (already available:)')\n",
    "    for i, t in enumerate(g.list_tags()):\n",
    "        print('\\t',i, t)\n",
    "    _tags = input('choose numbers or new tag name, space sep: ').split(' ')\n",
    "    tags = [ g.list_tags()[int(i)] for i in _tags if i.isnumeric() ]\n",
    "    tags = tags + [ t for t in _tags if not t.isnumeric() ]\n",
    "    \n",
    "    n_id = g.add_node(name, desc, tags)\n",
    "    g.updateHTML()\n",
    "    \n",
    "    print('\\n')\n",
    "    print(' -- Node created --' )\n",
    "    g.describe_node(n_id)\n",
    "\n",
    "cli_addNode(g)"
   ]
  },
  {
   "cell_type": "code",
   "execution_count": 55,
   "id": "a3edfd44",
   "metadata": {},
   "outputs": [
    {
     "data": {
      "text/plain": [
       "['', 'class']"
      ]
     },
     "execution_count": 55,
     "metadata": {},
     "output_type": "execute_result"
    }
   ],
   "source": [
    "g.list_tags()"
   ]
  },
  {
   "cell_type": "code",
   "execution_count": 56,
   "id": "83d5302d",
   "metadata": {},
   "outputs": [
    {
     "name": "stdout",
     "output_type": "stream",
     "text": [
      "Source node id: 713\n",
      "Dest. node id(s) (space sep): 80f\n"
     ]
    }
   ],
   "source": [
    "def cli_addEdge(g:Graph):\n",
    "    n1 = input('Source node id: ')\n",
    "    n2 = input('Dest. node id(s) (space sep): ').split(' ')\n",
    "    g.add_edges([ [n1, nd] for nd in n2 ])\n",
    "    g.updateHTML()\n",
    "\n",
    "cli_addEdge(g)"
   ]
  },
  {
   "cell_type": "code",
   "execution_count": 93,
   "id": "02832172",
   "metadata": {},
   "outputs": [],
   "source": [
    "txt = \"\"\"void\t\n",
    "close()\n",
    "Release PointCloud's resources back to ARCore.\n",
    "IntBuffer\t\n",
    "getIds()\n",
    "Retrieves a buffer of point cloud point IDs.\n",
    "FloatBuffer\t\n",
    "getPoints()\n",
    "Returns a buffer of point coordinates and confidence values.\n",
    "long\t\n",
    "getTimestamp()\n",
    "Returns the timestamp in nanoseconds when this point cloud was observed.\n",
    "void\t\n",
    "release()\n",
    "Release PointCloud's resources back to ARCore.\"\"\"\n",
    "\n",
    "t = txt.replace('\\t', '').split('\\n')\n",
    "\n",
    "t = [ [t[i+1], t[i]+' <- '+t[i+2] ] for i in range(0, len(t), 3) ]\n",
    "\n",
    "t\n",
    "\n",
    "g_save = g\n",
    "\n",
    "p_node = 'b47'\n",
    "n = []\n",
    "\n",
    "for i in t:\n",
    "    n.append(g.add_node(i[0], i[1], ['class-fun']))\n",
    "\n",
    "g.add_edges([[p_node, x] for x in n ])\n",
    "\n",
    "g.updateHTML()\n"
   ]
  },
  {
   "cell_type": "code",
   "execution_count": 87,
   "id": "9916eb1f",
   "metadata": {},
   "outputs": [],
   "source": [
    "def composteSubClassFunc(class_node_id, raw_txt):\n",
    "    txt = raw_txt\n",
    "\n",
    "    t = txt.replace('\\t', '').split('\\n')\n",
    "\n",
    "    t = [ [t[i+1], t[i]+' <- '+t[i+2] ] for i in range(0, len(t), 3) ]\n",
    "\n",
    "    t\n",
    "\n",
    "    g_save = g\n",
    "\n",
    "    p_node = str(class_node_id)\n",
    "    n = []\n",
    "\n",
    "    for i in t:\n",
    "        n.append(g.add_node(i[0], i[1], ['class-fun']))\n",
    "\n",
    "    g.add_edges([[p_node, x] for x in n ])\n",
    "\n",
    "    g.updateHTML()\n"
   ]
  },
  {
   "cell_type": "code",
   "execution_count": 92,
   "id": "adc7e96e",
   "metadata": {},
   "outputs": [
    {
     "name": "stdout",
     "output_type": "stream",
     "text": [
      "Enter parent node id:b47\n",
      "raw_txt:void\t close() Release PointCloud's resources back to ARCore. IntBuffer\t getIds() Retrieves a buffer of point cloud point IDs. FloatBuffer\t getPoints() Returns a buffer of point coordinates and confidence values. long\t getTimestamp() Returns the timestamp in nanoseconds when this point cloud was observed. void\t release() Release PointCloud's resources back to ARCore.\n"
     ]
    },
    {
     "ename": "IndexError",
     "evalue": "list index out of range",
     "output_type": "error",
     "traceback": [
      "\u001b[1;31m---------------------------------------------------------------------------\u001b[0m",
      "\u001b[1;31mIndexError\u001b[0m                                Traceback (most recent call last)",
      "Cell \u001b[1;32mIn [92], line 3\u001b[0m\n\u001b[0;32m      1\u001b[0m node_id \u001b[38;5;241m=\u001b[39m \u001b[38;5;28minput\u001b[39m(\u001b[38;5;124m'\u001b[39m\u001b[38;5;124mEnter parent node id:\u001b[39m\u001b[38;5;124m'\u001b[39m)\n\u001b[0;32m      2\u001b[0m raw_txt \u001b[38;5;241m=\u001b[39m \u001b[38;5;28minput\u001b[39m(\u001b[38;5;124m'\u001b[39m\u001b[38;5;124mraw_txt:\u001b[39m\u001b[38;5;124m'\u001b[39m)\n\u001b[1;32m----> 3\u001b[0m \u001b[43mcomposteSubClassFunc\u001b[49m\u001b[43m(\u001b[49m\u001b[43mnode_id\u001b[49m\u001b[43m,\u001b[49m\u001b[43m \u001b[49m\u001b[43mraw_txt\u001b[49m\u001b[43m)\u001b[49m\n",
      "Cell \u001b[1;32mIn [87], line 6\u001b[0m, in \u001b[0;36mcomposteSubClassFunc\u001b[1;34m(class_node_id, raw_txt)\u001b[0m\n\u001b[0;32m      2\u001b[0m txt \u001b[38;5;241m=\u001b[39m raw_txt\n\u001b[0;32m      4\u001b[0m t \u001b[38;5;241m=\u001b[39m txt\u001b[38;5;241m.\u001b[39mreplace(\u001b[38;5;124m'\u001b[39m\u001b[38;5;130;01m\\t\u001b[39;00m\u001b[38;5;124m'\u001b[39m, \u001b[38;5;124m'\u001b[39m\u001b[38;5;124m'\u001b[39m)\u001b[38;5;241m.\u001b[39msplit(\u001b[38;5;124m'\u001b[39m\u001b[38;5;130;01m\\n\u001b[39;00m\u001b[38;5;124m'\u001b[39m)\n\u001b[1;32m----> 6\u001b[0m t \u001b[38;5;241m=\u001b[39m [ [t[i\u001b[38;5;241m+\u001b[39m\u001b[38;5;241m1\u001b[39m], t[i]\u001b[38;5;241m+\u001b[39m\u001b[38;5;124m'\u001b[39m\u001b[38;5;124m <- \u001b[39m\u001b[38;5;124m'\u001b[39m\u001b[38;5;241m+\u001b[39mt[i\u001b[38;5;241m+\u001b[39m\u001b[38;5;241m2\u001b[39m] ] \u001b[38;5;28;01mfor\u001b[39;00m i \u001b[38;5;129;01min\u001b[39;00m \u001b[38;5;28mrange\u001b[39m(\u001b[38;5;241m0\u001b[39m, \u001b[38;5;28mlen\u001b[39m(t), \u001b[38;5;241m3\u001b[39m) ]\n\u001b[0;32m      8\u001b[0m t\n\u001b[0;32m     10\u001b[0m g_save \u001b[38;5;241m=\u001b[39m g\n",
      "Cell \u001b[1;32mIn [87], line 6\u001b[0m, in \u001b[0;36m<listcomp>\u001b[1;34m(.0)\u001b[0m\n\u001b[0;32m      2\u001b[0m txt \u001b[38;5;241m=\u001b[39m raw_txt\n\u001b[0;32m      4\u001b[0m t \u001b[38;5;241m=\u001b[39m txt\u001b[38;5;241m.\u001b[39mreplace(\u001b[38;5;124m'\u001b[39m\u001b[38;5;130;01m\\t\u001b[39;00m\u001b[38;5;124m'\u001b[39m, \u001b[38;5;124m'\u001b[39m\u001b[38;5;124m'\u001b[39m)\u001b[38;5;241m.\u001b[39msplit(\u001b[38;5;124m'\u001b[39m\u001b[38;5;130;01m\\n\u001b[39;00m\u001b[38;5;124m'\u001b[39m)\n\u001b[1;32m----> 6\u001b[0m t \u001b[38;5;241m=\u001b[39m [ [\u001b[43mt\u001b[49m\u001b[43m[\u001b[49m\u001b[43mi\u001b[49m\u001b[38;5;241;43m+\u001b[39;49m\u001b[38;5;241;43m1\u001b[39;49m\u001b[43m]\u001b[49m, t[i]\u001b[38;5;241m+\u001b[39m\u001b[38;5;124m'\u001b[39m\u001b[38;5;124m <- \u001b[39m\u001b[38;5;124m'\u001b[39m\u001b[38;5;241m+\u001b[39mt[i\u001b[38;5;241m+\u001b[39m\u001b[38;5;241m2\u001b[39m] ] \u001b[38;5;28;01mfor\u001b[39;00m i \u001b[38;5;129;01min\u001b[39;00m \u001b[38;5;28mrange\u001b[39m(\u001b[38;5;241m0\u001b[39m, \u001b[38;5;28mlen\u001b[39m(t), \u001b[38;5;241m3\u001b[39m) ]\n\u001b[0;32m      8\u001b[0m t\n\u001b[0;32m     10\u001b[0m g_save \u001b[38;5;241m=\u001b[39m g\n",
      "\u001b[1;31mIndexError\u001b[0m: list index out of range"
     ]
    }
   ],
   "source": [
    "node_id = input('Enter parent node id:')\n",
    "raw_txt = input('raw_txt:')\n",
    "composteSubClassFunc(node_id, raw_txt)"
   ]
  },
  {
   "cell_type": "code",
   "execution_count": 85,
   "id": "a696534c",
   "metadata": {},
   "outputs": [
    {
     "name": "stdout",
     "output_type": "stream",
     "text": [
      "713 ar ['']\n",
      "80f Anchor ['class']\n",
      "b51 ArCoreApk ['class']\n",
      "afa AugmentedFace ['class']\n",
      "c27 AugmentedImage ['class']\n",
      "fc7 AugmentedImageDatabase ['class']\n",
      "1bd Camera ['class']\n",
      "24d CameraConfig ['class']\n",
      "8ff CameraConfigFilter ['class']\n",
      "5be CameraIntrinsics ['class']\n",
      "38e Config ['class']\n",
      "6fb DepthPoint ['class']\n",
      "433 Earth ['class']\n",
      "186 Frame ['class']\n",
      "caf GeospatialPose ['class']\n",
      "74b HitResult ['class']\n",
      "ec1 HostCloudAnchorFuture ['class']\n",
      "9dd ImageFormat ['class']\n",
      "70e ImageMetadata ['class']\n",
      "701 InstantPlacementPoint ['class']\n",
      "a64 LightEstimate ['class']\n",
      "df6 Mesh ['class']\n",
      "b92 Plane ['class']\n",
      "850 Point ['class']\n",
      "b47 PointCloud ['class']\n",
      "49a Pose ['class']\n",
      "6b9 RecordingConfig ['class']\n",
      "4fa ResolveAnchorOnRooftopFuture ['class']\n",
      "3d1 ResolveAnchorOnTerrainFuture ['class']\n",
      "84d ResolveCloudAnchorFuture ['class']\n",
      "872 Session ['class']\n",
      "e06 SharedCamera ['class']\n",
      "a29 StreetscapeGeometry ['class']\n",
      "97e Track ['class']\n",
      "104 TrackData ['class']\n",
      "27d VpsAvailabilityFuture ['class']\n",
      "17b detach() ['class-fun']\n",
      "3da equals(Object obj) ['class-fun']\n",
      "d7c getCloudAnchorId() ['class-fun']\n",
      "479 getCloudAnchorState() ['class-fun']\n",
      "9ff getPose() ['class-fun']\n",
      "258 getTerrainAnchorState() ['class-fun']\n",
      "5c1 getTrackingState() ['class-fun']\n",
      "671 hashCode() ['class-fun']\n"
     ]
    }
   ],
   "source": [
    "for i in g.nodes.keys():\n",
    "    print(i, g.nodes[i].name, g.nodes[i].tags)"
   ]
  },
  {
   "cell_type": "code",
   "execution_count": 95,
   "id": "291169b5",
   "metadata": {},
   "outputs": [
    {
     "name": "stdout",
     "output_type": "stream",
     "text": [
      "{\"name\": \"PointCloud\", \"desc\": \"Contains a set of observed 3D points and confidence values. \", \"tags\": [\"class\"], \"node_id\": \"b47\"}\n"
     ]
    }
   ],
   "source": [
    "import json\n",
    "print(json.dumps(g.nodes['b47'].__dict__))"
   ]
  },
  {
   "cell_type": "code",
   "execution_count": 117,
   "id": "3f50487f",
   "metadata": {},
   "outputs": [
    {
     "data": {
      "text/plain": [
       "dict_keys(['nodes', 'edges', 'adj_matrix', 'tags', 'name', 'html_name'])"
      ]
     },
     "execution_count": 117,
     "metadata": {},
     "output_type": "execute_result"
    }
   ],
   "source": [
    "g.__dict__.keys()"
   ]
  },
  {
   "cell_type": "code",
   "execution_count": 118,
   "id": "3b76fad4",
   "metadata": {},
   "outputs": [
    {
     "data": {
      "text/plain": [
       "'{\"name\": \"PointCloud\", \"desc\": \"Contains a set of observed 3D points and confidence values. \", \"tags\": [\"class\"], \"node_id\": \"b47\"}'"
      ]
     },
     "execution_count": 118,
     "metadata": {},
     "output_type": "execute_result"
    }
   ],
   "source": [
    "json.dumps(g.nodes['b47'].__dict__)"
   ]
  },
  {
   "cell_type": "code",
   "execution_count": 114,
   "id": "637c890b",
   "metadata": {},
   "outputs": [
    {
     "data": {
      "text/plain": [
       "{'adj_matrix': {'713': {'80f': '6330ec',\n",
       "   'b51': 'd53b02',\n",
       "   'afa': '489904',\n",
       "   'c27': '15cc55',\n",
       "   'fc7': '296a65',\n",
       "   '1bd': 'a8695f',\n",
       "   '24d': 'f344e6',\n",
       "   '8ff': 'db4935',\n",
       "   '5be': 'b23ee6',\n",
       "   '38e': '7bd7b9',\n",
       "   '6fb': 'da640e',\n",
       "   '433': '315d52',\n",
       "   '186': 'aef47e',\n",
       "   'caf': '418525',\n",
       "   '74b': '808866',\n",
       "   'ec1': '8c074e',\n",
       "   '9dd': '54e1f',\n",
       "   '70e': '121917',\n",
       "   '701': '6749db',\n",
       "   'a64': '965a27',\n",
       "   'df6': 'bf9b3a',\n",
       "   'b92': '9d9448',\n",
       "   '850': '1197b9',\n",
       "   'b47': '28ebf5',\n",
       "   '49a': '7cf361',\n",
       "   '6b9': '3c3c66',\n",
       "   '4fa': 'db4bd',\n",
       "   '3d1': 'f62a09',\n",
       "   '84d': 'fbc075',\n",
       "   '872': 'd178bd',\n",
       "   'e06': '8d1a10',\n",
       "   'a29': '708a76',\n",
       "   '97e': 'cee362',\n",
       "   '104': '4b12c7',\n",
       "   '27d': '88566b'},\n",
       "  '80f': {'713': '6330ec',\n",
       "   '17b': '7763b6',\n",
       "   '3da': '43e06a',\n",
       "   'd7c': '127f38',\n",
       "   '479': '8dc696',\n",
       "   '9ff': '11704a',\n",
       "   '258': 'e395b0',\n",
       "   '5c1': '1cda12',\n",
       "   '671': '2a44ba'},\n",
       "  'b51': {'713': 'd53b02'},\n",
       "  'afa': {'713': '489904'},\n",
       "  'c27': {'713': '15cc55'},\n",
       "  'fc7': {'713': '296a65'},\n",
       "  '1bd': {'713': 'a8695f'},\n",
       "  '24d': {'713': 'f344e6'},\n",
       "  '8ff': {'713': 'db4935'},\n",
       "  '5be': {'713': 'b23ee6'},\n",
       "  '38e': {'713': '7bd7b9'},\n",
       "  '6fb': {'713': 'da640e'},\n",
       "  '433': {'713': '315d52'},\n",
       "  '186': {'713': 'aef47e'},\n",
       "  'caf': {'713': '418525'},\n",
       "  '74b': {'713': '808866',\n",
       "   '93c': '630374',\n",
       "   'cdb': 'b4dff0',\n",
       "   '1fe': '6c8bd6',\n",
       "   '7ee': 'c04e32',\n",
       "   '3a2': 'a9870c',\n",
       "   '141': '97f1b'},\n",
       "  'ec1': {'713': '8c074e'},\n",
       "  '9dd': {'713': '54e1f'},\n",
       "  '70e': {'713': '121917'},\n",
       "  '701': {'713': '6749db'},\n",
       "  'a64': {'713': '965a27'},\n",
       "  'df6': {'713': 'bf9b3a',\n",
       "   'afe': '1783de',\n",
       "   'cd7': '2078a4',\n",
       "   'e34': '158cb9',\n",
       "   '138': '46937'},\n",
       "  'b92': {'713': '9d9448',\n",
       "   '60f': 'cf8ccb',\n",
       "   '301': '76c981',\n",
       "   'e1c': 'f26c28',\n",
       "   '3f9': '27811e',\n",
       "   'e30': 'c36e75',\n",
       "   'cfb': 'e999cb',\n",
       "   '7eb': '6ae4ce',\n",
       "   '2e0': 'b4e5f2',\n",
       "   'e31': 'd8de7d',\n",
       "   'bbb': '460297',\n",
       "   'f70': 'd311b6',\n",
       "   'e6e': '722248',\n",
       "   'f2d': '78d142'},\n",
       "  '850': {'713': '1197b9'},\n",
       "  'b47': {'713': '28ebf5',\n",
       "   'b61': '1796dc',\n",
       "   '3df': '98287a',\n",
       "   'c43': '1d4f87',\n",
       "   '9b1': '711562',\n",
       "   '561': '925d74'},\n",
       "  '49a': {'713': '7cf361'},\n",
       "  '6b9': {'713': '3c3c66'},\n",
       "  '4fa': {'713': 'db4bd'},\n",
       "  '3d1': {'713': 'f62a09'},\n",
       "  '84d': {'713': 'fbc075'},\n",
       "  '872': {'713': 'd178bd'},\n",
       "  'e06': {'713': '8d1a10'},\n",
       "  'a29': {'713': '708a76'},\n",
       "  '97e': {'713': 'cee362'},\n",
       "  '104': {'713': '4b12c7'},\n",
       "  '27d': {'713': '88566b'},\n",
       "  '17b': {'80f': '7763b6'},\n",
       "  '3da': {'80f': '43e06a'},\n",
       "  'd7c': {'80f': '127f38'},\n",
       "  '479': {'80f': '8dc696'},\n",
       "  '9ff': {'80f': '11704a'},\n",
       "  '258': {'80f': 'e395b0'},\n",
       "  '5c1': {'80f': '1cda12'},\n",
       "  '671': {'80f': '2a44ba'},\n",
       "  '93c': {'74b': '630374'},\n",
       "  'cdb': {'74b': 'b4dff0'},\n",
       "  '1fe': {'74b': '6c8bd6'},\n",
       "  '7ee': {'74b': 'c04e32'},\n",
       "  '3a2': {'74b': 'a9870c'},\n",
       "  '141': {'74b': '97f1b'},\n",
       "  'afe': {'df6': '1783de'},\n",
       "  'cd7': {'df6': '2078a4'},\n",
       "  'e34': {'df6': '158cb9'},\n",
       "  '138': {'df6': '46937'},\n",
       "  '60f': {'b92': 'cf8ccb'},\n",
       "  '301': {'b92': '76c981'},\n",
       "  'e1c': {'b92': 'f26c28'},\n",
       "  '3f9': {'b92': '27811e'},\n",
       "  'e30': {'b92': 'c36e75'},\n",
       "  'cfb': {'b92': 'e999cb'},\n",
       "  '7eb': {'b92': '6ae4ce'},\n",
       "  '2e0': {'b92': 'b4e5f2'},\n",
       "  'e31': {'b92': 'd8de7d'},\n",
       "  'bbb': {'b92': '460297'},\n",
       "  'f70': {'b92': 'd311b6'},\n",
       "  'e6e': {'b92': '722248'},\n",
       "  'f2d': {'b92': '78d142'},\n",
       "  'b61': {'b47': '1796dc'},\n",
       "  '3df': {'b47': '98287a'},\n",
       "  'c43': {'b47': '1d4f87'},\n",
       "  '9b1': {'b47': '711562'},\n",
       "  '561': {'b47': '925d74'}},\n",
       " 'tags': {'': 1, 'class': 35, 'class-fun': 36},\n",
       " 'name': 'my_graph',\n",
       " 'html_name': 'my_graph.html'}"
      ]
     },
     "execution_count": 114,
     "metadata": {},
     "output_type": "execute_result"
    }
   ],
   "source": [
    "d = g.__dict__\n",
    "d.pop('edges')\n",
    "d"
   ]
  },
  {
   "cell_type": "code",
   "execution_count": 115,
   "id": "c18963a5",
   "metadata": {},
   "outputs": [
    {
     "data": {
      "text/plain": [
       "'{\"adj_matrix\": {\"713\": {\"80f\": \"6330ec\", \"b51\": \"d53b02\", \"afa\": \"489904\", \"c27\": \"15cc55\", \"fc7\": \"296a65\", \"1bd\": \"a8695f\", \"24d\": \"f344e6\", \"8ff\": \"db4935\", \"5be\": \"b23ee6\", \"38e\": \"7bd7b9\", \"6fb\": \"da640e\", \"433\": \"315d52\", \"186\": \"aef47e\", \"caf\": \"418525\", \"74b\": \"808866\", \"ec1\": \"8c074e\", \"9dd\": \"54e1f\", \"70e\": \"121917\", \"701\": \"6749db\", \"a64\": \"965a27\", \"df6\": \"bf9b3a\", \"b92\": \"9d9448\", \"850\": \"1197b9\", \"b47\": \"28ebf5\", \"49a\": \"7cf361\", \"6b9\": \"3c3c66\", \"4fa\": \"db4bd\", \"3d1\": \"f62a09\", \"84d\": \"fbc075\", \"872\": \"d178bd\", \"e06\": \"8d1a10\", \"a29\": \"708a76\", \"97e\": \"cee362\", \"104\": \"4b12c7\", \"27d\": \"88566b\"}, \"80f\": {\"713\": \"6330ec\", \"17b\": \"7763b6\", \"3da\": \"43e06a\", \"d7c\": \"127f38\", \"479\": \"8dc696\", \"9ff\": \"11704a\", \"258\": \"e395b0\", \"5c1\": \"1cda12\", \"671\": \"2a44ba\"}, \"b51\": {\"713\": \"d53b02\"}, \"afa\": {\"713\": \"489904\"}, \"c27\": {\"713\": \"15cc55\"}, \"fc7\": {\"713\": \"296a65\"}, \"1bd\": {\"713\": \"a8695f\"}, \"24d\": {\"713\": \"f344e6\"}, \"8ff\": {\"713\": \"db4935\"}, \"5be\": {\"713\": \"b23ee6\"}, \"38e\": {\"713\": \"7bd7b9\"}, \"6fb\": {\"713\": \"da640e\"}, \"433\": {\"713\": \"315d52\"}, \"186\": {\"713\": \"aef47e\"}, \"caf\": {\"713\": \"418525\"}, \"74b\": {\"713\": \"808866\", \"93c\": \"630374\", \"cdb\": \"b4dff0\", \"1fe\": \"6c8bd6\", \"7ee\": \"c04e32\", \"3a2\": \"a9870c\", \"141\": \"97f1b\"}, \"ec1\": {\"713\": \"8c074e\"}, \"9dd\": {\"713\": \"54e1f\"}, \"70e\": {\"713\": \"121917\"}, \"701\": {\"713\": \"6749db\"}, \"a64\": {\"713\": \"965a27\"}, \"df6\": {\"713\": \"bf9b3a\", \"afe\": \"1783de\", \"cd7\": \"2078a4\", \"e34\": \"158cb9\", \"138\": \"46937\"}, \"b92\": {\"713\": \"9d9448\", \"60f\": \"cf8ccb\", \"301\": \"76c981\", \"e1c\": \"f26c28\", \"3f9\": \"27811e\", \"e30\": \"c36e75\", \"cfb\": \"e999cb\", \"7eb\": \"6ae4ce\", \"2e0\": \"b4e5f2\", \"e31\": \"d8de7d\", \"bbb\": \"460297\", \"f70\": \"d311b6\", \"e6e\": \"722248\", \"f2d\": \"78d142\"}, \"850\": {\"713\": \"1197b9\"}, \"b47\": {\"713\": \"28ebf5\", \"b61\": \"1796dc\", \"3df\": \"98287a\", \"c43\": \"1d4f87\", \"9b1\": \"711562\", \"561\": \"925d74\"}, \"49a\": {\"713\": \"7cf361\"}, \"6b9\": {\"713\": \"3c3c66\"}, \"4fa\": {\"713\": \"db4bd\"}, \"3d1\": {\"713\": \"f62a09\"}, \"84d\": {\"713\": \"fbc075\"}, \"872\": {\"713\": \"d178bd\"}, \"e06\": {\"713\": \"8d1a10\"}, \"a29\": {\"713\": \"708a76\"}, \"97e\": {\"713\": \"cee362\"}, \"104\": {\"713\": \"4b12c7\"}, \"27d\": {\"713\": \"88566b\"}, \"17b\": {\"80f\": \"7763b6\"}, \"3da\": {\"80f\": \"43e06a\"}, \"d7c\": {\"80f\": \"127f38\"}, \"479\": {\"80f\": \"8dc696\"}, \"9ff\": {\"80f\": \"11704a\"}, \"258\": {\"80f\": \"e395b0\"}, \"5c1\": {\"80f\": \"1cda12\"}, \"671\": {\"80f\": \"2a44ba\"}, \"93c\": {\"74b\": \"630374\"}, \"cdb\": {\"74b\": \"b4dff0\"}, \"1fe\": {\"74b\": \"6c8bd6\"}, \"7ee\": {\"74b\": \"c04e32\"}, \"3a2\": {\"74b\": \"a9870c\"}, \"141\": {\"74b\": \"97f1b\"}, \"afe\": {\"df6\": \"1783de\"}, \"cd7\": {\"df6\": \"2078a4\"}, \"e34\": {\"df6\": \"158cb9\"}, \"138\": {\"df6\": \"46937\"}, \"60f\": {\"b92\": \"cf8ccb\"}, \"301\": {\"b92\": \"76c981\"}, \"e1c\": {\"b92\": \"f26c28\"}, \"3f9\": {\"b92\": \"27811e\"}, \"e30\": {\"b92\": \"c36e75\"}, \"cfb\": {\"b92\": \"e999cb\"}, \"7eb\": {\"b92\": \"6ae4ce\"}, \"2e0\": {\"b92\": \"b4e5f2\"}, \"e31\": {\"b92\": \"d8de7d\"}, \"bbb\": {\"b92\": \"460297\"}, \"f70\": {\"b92\": \"d311b6\"}, \"e6e\": {\"b92\": \"722248\"}, \"f2d\": {\"b92\": \"78d142\"}, \"b61\": {\"b47\": \"1796dc\"}, \"3df\": {\"b47\": \"98287a\"}, \"c43\": {\"b47\": \"1d4f87\"}, \"9b1\": {\"b47\": \"711562\"}, \"561\": {\"b47\": \"925d74\"}}, \"tags\": {\"\": 1, \"class\": 35, \"class-fun\": 36}, \"name\": \"my_graph\", \"html_name\": \"my_graph.html\"}'"
      ]
     },
     "execution_count": 115,
     "metadata": {},
     "output_type": "execute_result"
    }
   ],
   "source": [
    "json.dumps(g.__dict__)"
   ]
  },
  {
   "cell_type": "code",
   "execution_count": 119,
   "id": "9272e04c",
   "metadata": {
    "scrolled": true
   },
   "outputs": [
    {
     "name": "stdout",
     "output_type": "stream",
     "text": [
      "{\"name\": \"ar\", \"desc\": \"com.google.ar.core\", \"tags\": [\"\"], \"node_id\": \"713\"}\n",
      "{\"name\": \"Anchor\", \"desc\": \"Describes a fixed location and orientation in the real world.\", \"tags\": [\"class\"], \"node_id\": \"80f\"}\n",
      "{\"name\": \"ArCoreApk\", \"desc\": \"Static methods for managing the status of ARCore on the device. \", \"tags\": [\"class\"], \"node_id\": \"b51\"}\n",
      "{\"name\": \"AugmentedFace\", \"desc\": \"Describes a face detected by ARCore and provides methods to access additional center and face region poses as well as face mesh related data. \", \"tags\": [\"class\"], \"node_id\": \"afa\"}\n",
      "{\"name\": \"AugmentedImage\", \"desc\": \"Describes the current best knowledge of a real-world augmented image. \", \"tags\": [\"class\"], \"node_id\": \"c27\"}\n",
      "{\"name\": \"AugmentedImageDatabase\", \"desc\": \"Database containing a list of images to be detected and tracked by ARCore. \", \"tags\": [\"class\"], \"node_id\": \"fc7\"}\n",
      "{\"name\": \"Camera\", \"desc\": \"Provides information about the camera that is used to capture images. \", \"tags\": [\"class\"], \"node_id\": \"1bd\"}\n",
      "{\"name\": \"CameraConfig\", \"desc\": \"Provides details of a camera configuration such as size of the CPU image and GPU texture. \", \"tags\": [\"class\"], \"node_id\": \"24d\"}\n",
      "{\"name\": \"CameraConfigFilter\", \"desc\": \"Allows the application to select the camera config filters it needs to enable/disable so that it can obtain the list of camera configs that are supported on the device camera. \", \"tags\": [\"class\"], \"node_id\": \"8ff\"}\n",
      "{\"name\": \"CameraIntrinsics\", \"desc\": \"Provides information about the physical characteristics of the device camera, for the camera image (CPU) or texture (GPU). \", \"tags\": [\"class\"], \"node_id\": \"5be\"}\n",
      "{\"name\": \"Config\", \"desc\": \"Holds settings that are used to configure the session. \", \"tags\": [\"class\"], \"node_id\": \"38e\"}\n",
      "{\"name\": \"DepthPoint\", \"desc\": \"On supported devices, represents a depth image based HitResult returned by Frame.hitTest(float, float). \", \"tags\": [\"class\"], \"node_id\": \"6fb\"}\n",
      "{\"name\": \"Earth\", \"desc\": \"A Trackable implementation representing the Earth. \", \"tags\": [\"class\"], \"node_id\": \"433\"}\n",
      "{\"name\": \"Frame\", \"desc\": \"Captures the state and changes to the AR system from a call to Session.update(). \", \"tags\": [\"class\"], \"node_id\": \"186\"}\n",
      "{\"name\": \"GeospatialPose\", \"desc\": \"Describes a specific location, elevation, and orientation relative to Earth. \", \"tags\": [\"class\"], \"node_id\": \"caf\"}\n",
      "{\"name\": \"HitResult\", \"desc\": \"Defines an intersection between a ray and estimated real-world geometry. \", \"tags\": [\"class\"], \"node_id\": \"74b\"}\n",
      "{\"name\": \"HostCloudAnchorFuture\", \"desc\": \"Handle to an async operation launched by Session.hostCloudAnchorAsync(Anchor, int, BiConsumer). \", \"tags\": [\"class\"], \"node_id\": \"ec1\"}\n",
      "{\"name\": \"ImageFormat\", \"desc\": \"Image formats produced by ARCore. \", \"tags\": [\"class\"], \"node_id\": \"9dd\"}\n",
      "{\"name\": \"ImageMetadata\", \"desc\": \"Provides access to metadata from the camera image capture result. \", \"tags\": [\"class\"], \"node_id\": \"70e\"}\n",
      "{\"name\": \"InstantPlacementPoint\", \"desc\": \"Trackable Instant Placement point returned by Frame.hitTestInstantPlacement(float, float, float). \", \"tags\": [\"class\"], \"node_id\": \"701\"}\n",
      "{\"name\": \"LightEstimate\", \"desc\": \"Holds information about the estimated lighting of the real scene. \", \"tags\": [\"class\"], \"node_id\": \"a64\"}\n",
      "{\"name\": \"Mesh\", \"desc\": \"Represents a polygon mesh describing geometry. \", \"tags\": [\"class\"], \"node_id\": \"df6\"}\n",
      "{\"name\": \"Plane\", \"desc\": \"Describes the current best knowledge of a real-world planar surface. \", \"tags\": [\"class\"], \"node_id\": \"b92\"}\n",
      "{\"name\": \"Point\", \"desc\": \"Represents a point in space that ARCore is tracking. \", \"tags\": [\"class\"], \"node_id\": \"850\"}\n",
      "{\"name\": \"PointCloud\", \"desc\": \"Contains a set of observed 3D points and confidence values. \", \"tags\": [\"class\"], \"node_id\": \"b47\"}\n",
      "{\"name\": \"Pose\", \"desc\": \"Represents an immutable rigid transformation from one coordinate space to another. \", \"tags\": [\"class\"], \"node_id\": \"49a\"}\n",
      "{\"name\": \"RecordingConfig\", \"desc\": \"Configuration related to session recording. \", \"tags\": [\"class\"], \"node_id\": \"6b9\"}\n",
      "{\"name\": \"ResolveAnchorOnRooftopFuture\", \"desc\": \"Handle to an async operation launched by Earth.resolveAnchorOnRooftopAsync(double, double, double, float, float, float, float, BiConsumer). \", \"tags\": [\"class\"], \"node_id\": \"4fa\"}\n",
      "{\"name\": \"ResolveAnchorOnTerrainFuture\", \"desc\": \"Handle to an async operation launched by Earth.resolveAnchorOnTerrainAsync(double, double, double, float, float, float, float, BiConsumer). \", \"tags\": [\"class\"], \"node_id\": \"3d1\"}\n",
      "{\"name\": \"ResolveCloudAnchorFuture\", \"desc\": \"Handle to an async operation launched by Session.resolveCloudAnchorAsync(String, BiConsumer). \", \"tags\": [\"class\"], \"node_id\": \"84d\"}\n",
      "{\"name\": \"Session\", \"desc\": \"Manages AR system state and handles the session lifecycle. \", \"tags\": [\"class\"], \"node_id\": \"872\"}\n",
      "{\"name\": \"SharedCamera\", \"desc\": \"The SharedCamera class allows the app to share control of the camera with ARCore and obtain image readers and surfaces for rendering. \", \"tags\": [\"class\"], \"node_id\": \"e06\"}\n",
      "{\"name\": \"StreetscapeGeometry\", \"desc\": \"Defines geometry such as terrain, buildings, or other structures obtained from the Streetscape Geometry API. \", \"tags\": [\"class\"], \"node_id\": \"a29\"}\n",
      "{\"name\": \"Track\", \"desc\": \"Configuration of a Track for recording data on session recording. \", \"tags\": [\"class\"], \"node_id\": \"97e\"}\n",
      "{\"name\": \"TrackData\", \"desc\": \"Data that was recorded to a track. \", \"tags\": [\"class\"], \"node_id\": \"104\"}\n",
      "{\"name\": \"VpsAvailabilityFuture\", \"desc\": \"Handle to an async operation launched by Session.checkVpsAvailabilityAsync(double, double, Consumer).\", \"tags\": [\"class\"], \"node_id\": \"27d\"}\n",
      "{\"name\": \"detach()\", \"desc\": \"void <- Detaches this Anchor from its Trackable removes it from the Session.\", \"tags\": [\"class-fun\"], \"node_id\": \"17b\"}\n",
      "{\"name\": \"equals(Object obj)\", \"desc\": \"boolean <- Indicates whether some other object is an Anchor referencing the same logical anchor as this one.\", \"tags\": [\"class-fun\"], \"node_id\": \"3da\"}\n",
      "{\"name\": \"getCloudAnchorId()\", \"desc\": \"String <- This method is deprecated. For cloud anchors hosted by the async method Session.hostCloudAnchorAsync(Anchor, int, BiConsumer), the result Cloud Anchor ID can be obtained from the corresponding callback or Future object. This method will always return the empty string for anchors created through async methods.\", \"tags\": [\"class-fun\"], \"node_id\": \"d7c\"}\n",
      "{\"name\": \"getCloudAnchorState()\", \"desc\": \"Anchor.CloudAnchorState <- This method is deprecated. For Cloud Anchor operations created by the async Cloud Anchor methods, the result state can be obtained from the corresponding callback or Future object. This method will always return Anchor.CloudAnchorState.NONE for anchors created through async methods.\", \"tags\": [\"class-fun\"], \"node_id\": \"479\"}\n",
      "{\"name\": \"getPose()\", \"desc\": \"Pose <- Returns the pose of the anchor in the world coordinate space.\", \"tags\": [\"class-fun\"], \"node_id\": \"9ff\"}\n",
      "{\"name\": \"getTerrainAnchorState()\", \"desc\": \"Anchor.TerrainAnchorState <- This method is deprecated. For resolve operations created by the async method Earth.resolveAnchorOnTerrainAsync(double, double, double, float, float, float, float, BiConsumer), the result state can be obtained for the callback or future object.\", \"tags\": [\"class-fun\"], \"node_id\": \"258\"}\n",
      "{\"name\": \"getTrackingState()\", \"desc\": \"TrackingState <- Returns the current state of the pose of this anchor.\", \"tags\": [\"class-fun\"], \"node_id\": \"5c1\"}\n",
      "{\"name\": \"hashCode()\", \"desc\": \"int <- Returns a hash code value for the object.\", \"tags\": [\"class-fun\"], \"node_id\": \"671\"}\n",
      "{\"name\": \"createAnchor()\", \"desc\": \"Anchor <- Creates a new anchor at the hit location.\", \"tags\": [\"class-fun\"], \"node_id\": \"93c\"}\n",
      "{\"name\": \"equals(Object obj)\", \"desc\": \"boolean <- Indicates whether some other object is a HitResult referencing the same logical hit result as this one.\", \"tags\": [\"class-fun\"], \"node_id\": \"cdb\"}\n",
      "{\"name\": \"getDistance()\", \"desc\": \"float <- Returns the distance from the camera to the hit location, in meters.\", \"tags\": [\"class-fun\"], \"node_id\": \"1fe\"}\n",
      "{\"name\": \"getHitPose()\", \"desc\": \"Pose <- Returns the pose of the intersection between a ray and detected real-world geometry.\", \"tags\": [\"class-fun\"], \"node_id\": \"7ee\"}\n",
      "{\"name\": \"getTrackable()\", \"desc\": \"Trackable <- Returns the Trackable that was hit.\", \"tags\": [\"class-fun\"], \"node_id\": \"3a2\"}\n",
      "{\"name\": \"hashCode()\", \"desc\": \"int <- Returns a hash code value for the object.\", \"tags\": [\"class-fun\"], \"node_id\": \"141\"}\n",
      "{\"name\": \"getIndexList()\", \"desc\": \"IntBuffer <- Retrieves the triangle data for this mesh in a buffer of length getIndexListSize().\", \"tags\": [\"class-fun\"], \"node_id\": \"afe\"}\n",
      "{\"name\": \"getIndexListSize()\", \"desc\": \"int <- Retrieves the number of triangle indices (represented by getIndexList()) in this mesh.\", \"tags\": [\"class-fun\"], \"node_id\": \"cd7\"}\n",
      "{\"name\": \"getVertexList()\", \"desc\": \"FloatBuffer <- Retrieves the vertex coordinate data for this mesh.\", \"tags\": [\"class-fun\"], \"node_id\": \"e34\"}\n",
      "{\"name\": \"getVertexListSize()\", \"desc\": \"int <- Retrieves the number of vertices in this mesh.\", \"tags\": [\"class-fun\"], \"node_id\": \"138\"}\n",
      "{\"name\": \"createAnchor(Pose pose)\", \"desc\": \"Anchor <- Creates an anchor that is attached to this trackable, using the given initial pose in the world coordinate space.\", \"tags\": [\"class-fun\"], \"node_id\": \"60f\"}\n",
      "{\"name\": \"equals(Object obj)\", \"desc\": \"boolean <- Indicates whether some other object is a Trackable referencing the same logical trackable as this one.\", \"tags\": [\"class-fun\"], \"node_id\": \"301\"}\n",
      "{\"name\": \"getAnchors()\", \"desc\": \"Collection<Anchor> <- Gets the Anchors attached to this trackable.\", \"tags\": [\"class-fun\"], \"node_id\": \"e1c\"}\n",
      "{\"name\": \"getCenterPose()\", \"desc\": \"Pose <- Returns the pose of the center of the detected plane.\", \"tags\": [\"class-fun\"], \"node_id\": \"3f9\"}\n",
      "{\"name\": \"getExtentX()\", \"desc\": \"float <- Returns the length of this plane's bounding rectangle measured along the local X-axis of the coordinate space centered on the plane.\", \"tags\": [\"class-fun\"], \"node_id\": \"e30\"}\n",
      "{\"name\": \"getExtentZ()\", \"desc\": \"float <- Returns the length of this plane's bounding rectangle measured along the local Z-axis of the coordinate frame centered on the plane.\", \"tags\": [\"class-fun\"], \"node_id\": \"cfb\"}\n",
      "{\"name\": \"getPolygon()\", \"desc\": \"FloatBuffer <- Returns the 2D vertices of a convex polygon approximating the detected plane, in the form [x1, z1, x2, z2, ...].\", \"tags\": [\"class-fun\"], \"node_id\": \"7eb\"}\n",
      "{\"name\": \"getSubsumedBy()\", \"desc\": \"Plane <- If this plane has been subsumed, returns the plane this plane was merged into.\", \"tags\": [\"class-fun\"], \"node_id\": \"2e0\"}\n",
      "{\"name\": \"getTrackingState()\", \"desc\": \"TrackingState <- Gets this trackable's TrackingState.\", \"tags\": [\"class-fun\"], \"node_id\": \"e31\"}\n",
      "{\"name\": \"getType()\", \"desc\": \"Plane.Type <- Returns the type of this plane.\", \"tags\": [\"class-fun\"], \"node_id\": \"bbb\"}\n",
      "{\"name\": \"hashCode()\", \"desc\": \"int <- Returns a hash code value for the object.\", \"tags\": [\"class-fun\"], \"node_id\": \"f70\"}\n",
      "{\"name\": \"isPoseInExtents(Pose pose)\", \"desc\": \"boolean <- Returns true if the given pose (usually obtained from a HitResult) is in the plane's rectangular extents.\", \"tags\": [\"class-fun\"], \"node_id\": \"e6e\"}\n",
      "{\"name\": \"isPoseInPolygon(Pose pose)\", \"desc\": \"boolean <- Returns true if the given pose (usually obtained from a HitResult) is in the plane's polygon.\", \"tags\": [\"class-fun\"], \"node_id\": \"f2d\"}\n"
     ]
    }
   ],
   "source": [
    "for n in g.nodes.keys():\n",
    "    print(json.dumps(g.nodes[n].__dict__))"
   ]
  },
  {
   "cell_type": "code",
   "execution_count": null,
   "id": "79aa3430",
   "metadata": {},
   "outputs": [],
   "source": []
  }
 ],
 "metadata": {
  "kernelspec": {
   "display_name": "Python 3 (ipykernel)",
   "language": "python",
   "name": "python3"
  },
  "language_info": {
   "codemirror_mode": {
    "name": "ipython",
    "version": 3
   },
   "file_extension": ".py",
   "mimetype": "text/x-python",
   "name": "python",
   "nbconvert_exporter": "python",
   "pygments_lexer": "ipython3",
   "version": "3.10.8"
  }
 },
 "nbformat": 4,
 "nbformat_minor": 5
}
